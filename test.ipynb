{
 "cells": [
  {
   "cell_type": "code",
   "execution_count": 3,
   "metadata": {},
   "outputs": [
    {
     "name": "stdout",
     "output_type": "stream",
     "text": [
      "1\n",
      "karim\n",
      "2.0\n"
     ]
    }
   ],
   "source": [
    "def example(*arg):\n",
    "    for i in arg:\n",
    "        print(i)\n",
    "\n",
    "example(1, \"karim\", 2.00)"
   ]
  },
  {
   "cell_type": "code",
   "execution_count": 4,
   "metadata": {},
   "outputs": [
    {
     "name": "stdout",
     "output_type": "stream",
     "text": [
      "I can't go home today!\n"
     ]
    }
   ],
   "source": [
    "balance = True\n",
    "holyday = True\n",
    "goning_time = True\n",
    "pressure = False\n",
    "if balance == True:\n",
    "    print(\"I have money\")\n",
    "elif holyday == False:\n",
    "    print(\"I've to go to school\")\n",
    "elif goning_time == True:\n",
    "    print(\"Now is the time to go ...\")\n",
    "elif pressure == False:\n",
    "    print(\"I am ready to go home!\")\n",
    "else:\n",
    "    print(\"I can't go home today!\")"
   ]
  },
  {
   "cell_type": "markdown",
   "metadata": {},
   "source": [
    "# Objects and Classes\n"
   ]
  },
  {
   "cell_type": "code",
   "execution_count": null,
   "metadata": {},
   "outputs": [],
   "source": []
  },
  {
   "cell_type": "code",
   "execution_count": null,
   "metadata": {},
   "outputs": [],
   "source": []
  }
 ],
 "metadata": {
  "kernelspec": {
   "display_name": "env",
   "language": "python",
   "name": "python3"
  },
  "language_info": {
   "codemirror_mode": {
    "name": "ipython",
    "version": 3
   },
   "file_extension": ".py",
   "mimetype": "text/x-python",
   "name": "python",
   "nbconvert_exporter": "python",
   "pygments_lexer": "ipython3",
   "version": "3.10.12"
  }
 },
 "nbformat": 4,
 "nbformat_minor": 2
}
