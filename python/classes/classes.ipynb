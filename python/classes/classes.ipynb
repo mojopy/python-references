{
 "cells": [
  {
   "cell_type": "markdown",
   "metadata": {},
   "source": [
    "# Classes and Objects"
   ]
  },
  {
   "cell_type": "code",
   "execution_count": 1,
   "metadata": {},
   "outputs": [
    {
     "name": "stdout",
     "output_type": "stream",
     "text": [
      "9\n"
     ]
    }
   ],
   "source": [
    "class MyClass:\n",
    "  z = 9\n",
    "\n",
    "m1 = MyClass()\n",
    "print(m1.z)"
   ]
  },
  {
   "cell_type": "markdown",
   "metadata": {},
   "source": [
    "# The __str__() Function"
   ]
  },
  {
   "cell_type": "code",
   "execution_count": 2,
   "metadata": {},
   "outputs": [
    {
     "name": "stdout",
     "output_type": "stream",
     "text": [
      "MHS\n",
      "24\n"
     ]
    }
   ],
   "source": [
    "# Basic Usage of '__str__()'\n",
    "\n",
    "class Person:\n",
    "    def __init__(self, name, age):\n",
    "        self.name = name\n",
    "        self.age = age\n",
    "\n",
    "p1 = Person(\"MHS\", 24)\n",
    "\n",
    "print(p1.name)\n",
    "print(p1.age)"
   ]
  },
  {
   "cell_type": "markdown",
   "metadata": {},
   "source": []
  },
  {
   "cell_type": "code",
   "execution_count": 3,
   "metadata": {},
   "outputs": [
    {
     "name": "stdout",
     "output_type": "stream",
     "text": [
      "Person(name=MHS, age=24)\n"
     ]
    }
   ],
   "source": [
    "class Person:\n",
    "    def __init__(self, name, age):\n",
    "        self.name = name\n",
    "        self.age = age\n",
    "\n",
    "    def __str__(self):\n",
    "        return f\"Person(name={self.name}, age={self.age})\"\n",
    "    \n",
    "p1 = Person(\"MHS\", 24)\n",
    "print(p1)"
   ]
  },
  {
   "cell_type": "code",
   "execution_count": 4,
   "metadata": {},
   "outputs": [
    {
     "name": "stdout",
     "output_type": "stream",
     "text": [
      "MHS, 24, 5.5\n"
     ]
    }
   ],
   "source": [
    "# '__str__()' with more Complex Object\n",
    "\n",
    "\n",
    "class MySelf:\n",
    "    def __init__(self, name, age, weight):\n",
    "        self.name = name\n",
    "        self.age = age\n",
    "        self.weight = weight\n",
    "\n",
    "    def __str__(self):\n",
    "        return f\"{self.name}, {self.age}, {self.weight}\"\n",
    "    \n",
    "mySelf = MySelf(\"MHS\", 24, 5.5)\n",
    "\n",
    "print(mySelf)"
   ]
  },
  {
   "cell_type": "code",
   "execution_count": 5,
   "metadata": {},
   "outputs": [
    {
     "name": "stdout",
     "output_type": "stream",
     "text": [
      "Employee(name=John Doe, position=Software Engineer, adderss=123 Main St, Springfield, 12345)\n"
     ]
    }
   ],
   "source": [
    "# '__str_()' in a Class with Nested Objects\n",
    "\n",
    "\n",
    "class Address:\n",
    "    def __init__(self, street, city, zipcode):\n",
    "        self.street = street\n",
    "        self.city = city\n",
    "        self.zipcode = zipcode\n",
    "\n",
    "    def __str__(self):\n",
    "        return f\"{self.street}, {self.city}, {self.zipcode}\"\n",
    "    \n",
    "\n",
    "class Employee:\n",
    "    def __init__(self, name, position, address):\n",
    "        self.name = name\n",
    "        self.position = position\n",
    "        self.address = address\n",
    "\n",
    "    def __str__(self):\n",
    "        return f\"Employee(name={self.name}, position={self.position}, adderss={self.address})\"\n",
    "    \n",
    "address1 = Address(\"123 Main St\", \"Springfield\", \"12345\")\n",
    "\n",
    "employee1 = Employee(\"John Doe\", \"Software Engineer\", address1)\n",
    "\n",
    "print(employee1)"
   ]
  },
  {
   "cell_type": "code",
   "execution_count": 6,
   "metadata": {},
   "outputs": [
    {
     "name": "stdout",
     "output_type": "stream",
     "text": [
      "2020 Toyota Corolla with 15000 miles\n"
     ]
    }
   ],
   "source": [
    "# '__str__()' with Additional Information\n",
    "\n",
    "\n",
    "class Car:\n",
    "    def __init__(self, make, model, year, mileage):\n",
    "        self.make = make\n",
    "        self.model = model\n",
    "        self.year = year\n",
    "        self.mileage = mileage\n",
    "\n",
    "    def __str__(self):\n",
    "        return f\"{self.year} {self.make} {self.model} with {self.mileage} miles\"\n",
    "    \n",
    "car1 = Car(\"Toyota\", \"Corolla\", 2020, 15000)\n",
    "\n",
    "print(car1)"
   ]
  },
  {
   "cell_type": "markdown",
   "metadata": {},
   "source": [
    "# Inheritance"
   ]
  },
  {
   "cell_type": "code",
   "execution_count": 7,
   "metadata": {},
   "outputs": [
    {
     "name": "stdout",
     "output_type": "stream",
     "text": [
      "Tommy says Woof!\n",
      "Pussi says Meow!\n"
     ]
    }
   ],
   "source": [
    "# Basic Inheritance\n",
    "\n",
    "\n",
    "class Animal:\n",
    "    def __init__(self, name):\n",
    "        self.name = name\n",
    "\n",
    "    def speak(self):\n",
    "        pass\n",
    "\n",
    "class Dog(Animal):\n",
    "    def speak(self):\n",
    "        return f\"{self.name} says Woof!\"\n",
    "    \n",
    "\n",
    "class Cat(Animal):\n",
    "    def speak(self):\n",
    "        return f\"{self.name} says Meow!\"\n",
    "    \n",
    "dog = Dog(\"Tommy\")\n",
    "cat = Cat(\"Pussi\")\n",
    "\n",
    "print(dog.speak())\n",
    "print(cat.speak())\n"
   ]
  },
  {
   "cell_type": "code",
   "execution_count": 10,
   "metadata": {},
   "outputs": [
    {
     "name": "stdout",
     "output_type": "stream",
     "text": [
      "Name: MHS, Age: 24, Employee ID: E12345\n"
     ]
    }
   ],
   "source": [
    "# Inheriting and Extending Functionality\n",
    "\n",
    "\n",
    "class Person:\n",
    "    def __init__(self, name, age):\n",
    "        self.name = name\n",
    "        self.age = age\n",
    "\n",
    "    def display_info(self):\n",
    "        return f\"Name: {self.name}, Age: {self.age}\"\n",
    "    \n",
    "class Employee(Person):\n",
    "    def __init__(self, name, age, employee_id):\n",
    "        super().__init__(name, age)\n",
    "        self.employee_id = employee_id\n",
    "\n",
    "    def display_info(self):\n",
    "        return f\"{super().display_info()}, Employee ID: {self.employee_id}\"\n",
    "    \n",
    "\n",
    "employee = Employee(\"MHS\", 24, \"E12345\")\n",
    "\n",
    "print(employee.display_info())"
   ]
  },
  {
   "cell_type": "code",
   "execution_count": 13,
   "metadata": {},
   "outputs": [
    {
     "name": "stdout",
     "output_type": "stream",
     "text": [
      "GeneriBrand is driving\n",
      "Toyota car is driving smoothly\n"
     ]
    }
   ],
   "source": [
    "# Overriding Methods\n",
    "\n",
    "class Vehicle:\n",
    "    def __init__(self, brand):\n",
    "        self.brand = brand\n",
    "\n",
    "    def drive(self):\n",
    "        return f\"{self.brand} is driving\"\n",
    "    \n",
    "class Car(Vehicle):\n",
    "    def drive(self):\n",
    "        return f\"{self.brand} car is driving smoothly\"\n",
    "    \n",
    "vehicle = Vehicle(\"GeneriBrand\")\n",
    "car = Car(\"Toyota\")\n",
    "\n",
    "print(vehicle.drive())\n",
    "print(car.drive())"
   ]
  },
  {
   "cell_type": "markdown",
   "metadata": {},
   "source": [
    "# Polymorphism"
   ]
  },
  {
   "cell_type": "code",
   "execution_count": 3,
   "metadata": {},
   "outputs": [
    {
     "name": "stdout",
     "output_type": "stream",
     "text": [
      "Woof!\n",
      "Meow!\n"
     ]
    }
   ],
   "source": [
    "# Method Overriding\n",
    "\n",
    "\n",
    "class Animal:\n",
    "    def sound(self):\n",
    "        raise NotImplementedError(\"Subclasses should implement this!\")\n",
    "    \n",
    "class Dog(Animal):\n",
    "        def sound(self):\n",
    "            return \"Woof!\"\n",
    "        \n",
    "class Cat(Animal):\n",
    "        def sound(self):\n",
    "            return \"Meow!\"\n",
    "        \n",
    "animals = [Dog(), Cat()]\n",
    "\n",
    "for animal in animals:\n",
    "     print(animal.sound())"
   ]
  },
  {
   "cell_type": "code",
   "execution_count": 4,
   "metadata": {},
   "outputs": [
    {
     "name": "stdout",
     "output_type": "stream",
     "text": [
      "The area is 16\n",
      "The area is 28.26\n"
     ]
    }
   ],
   "source": [
    "# Polymorphism with a Function\n",
    "\n",
    "\n",
    "class Shape:\n",
    "    def area(self):\n",
    "        raise NotImplementedError(\"Subclasses should implement this!\")\n",
    "\n",
    "class Square(Shape):\n",
    "    def __init__(self, side):\n",
    "        self.side = side\n",
    "\n",
    "    def area(self):\n",
    "        return self.side ** 2\n",
    "\n",
    "class Circle(Shape):\n",
    "    def __init__(self, radius):\n",
    "        self.radius = radius\n",
    "\n",
    "    def area(self):\n",
    "        return 3.14 * (self.radius ** 2)\n",
    "\n",
    "def print_area(shape):\n",
    "    print(f\"The area is {shape.area()}\")\n",
    "\n",
    "shapes = [Square(4), Circle(3)]\n",
    "\n",
    "for shape in shapes:\n",
    "    print_area(shape)"
   ]
  },
  {
   "cell_type": "code",
   "execution_count": 5,
   "metadata": {},
   "outputs": [
    {
     "name": "stdout",
     "output_type": "stream",
     "text": [
      "Quack!\n",
      "Woof!\n"
     ]
    }
   ],
   "source": [
    "# Duck Typing\n",
    "\n",
    "class Duck:\n",
    "    def sound(self):\n",
    "        return \"Quack!\"\n",
    "\n",
    "class Dog:\n",
    "    def sound(self):\n",
    "        return \"Woof!\"\n",
    "\n",
    "def make_sound(animal):\n",
    "    print(animal.sound())\n",
    "\n",
    "animals = [Duck(), Dog()]\n",
    "\n",
    "for animal in animals:\n",
    "    make_sound(animal)\n"
   ]
  },
  {
   "cell_type": "code",
   "execution_count": 17,
   "metadata": {},
   "outputs": [
    {
     "name": "stdout",
     "output_type": "stream",
     "text": [
      "Hello\n",
      "Sono\n",
      "Hola\n"
     ]
    }
   ],
   "source": [
    "class English:\n",
    "    def say_hello(self):\n",
    "        print('Hello')\n",
    "\n",
    "class Bengali:\n",
    "    def say_hello(self):\n",
    "        print('Sono')\n",
    "\n",
    "class Spenish:\n",
    "    def say_hello(self):\n",
    "        print('Hola')\n",
    "\n",
    "def tntro(language):\n",
    "    language.say_hello()\n",
    "\n",
    "\n",
    "Alex = English()\n",
    "Rafi = Bengali()\n",
    "Leo = Spenish()\n",
    "\n",
    "\n",
    "intro(Alex)\n",
    "intro(Rafi)\n",
    "intro(Leo)"
   ]
  },
  {
   "cell_type": "markdown",
   "metadata": {},
   "source": [
    "# Encapsulation"
   ]
  },
  {
   "cell_type": "code",
   "execution_count": 1,
   "metadata": {},
   "outputs": [
    {
     "name": "stdout",
     "output_type": "stream",
     "text": [
      "10.5\n"
     ]
    }
   ],
   "source": [
    "class Payment:\n",
    "    def __init__(self, price):\n",
    "        self.final_price = price + price*0.05\n",
    "\n",
    "book = Payment(10)\n",
    "\n",
    "print(book.final_price)"
   ]
  },
  {
   "cell_type": "code",
   "execution_count": null,
   "metadata": {},
   "outputs": [],
   "source": [
    "# Private Attributes and Methods\n",
    "\n",
    "\n",
    "class Employee:\n",
    "    def __inti__(self, name, age, salary):\n",
    "        self.__name = name\n",
    "        self.__age = age\n",
    "        self.__salary = salary\n",
    "\n",
    "    def __calculate_bonus(self):\n",
    "        return self.__salary * 0.1\n",
    "    \n",
    "    def get_details(self):\n",
    "        return f\"Name: {self.__name}, Age: {self.__age}\"\n",
    "    \n",
    "    def get_salary_with_bonus(self):\n",
    "        bonus = self.__calculate_bonus()\n",
    "        return f\"Salary with bonus: {self.__salary + bonus}\"\n",
    "    \n",
    "employee = Employee(\"John\", 30, 50000)\n",
    "\n",
    "print(employee.get_details())\n",
    "print(employee.get_salary_with_bonus())"
   ]
  },
  {
   "cell_type": "code",
   "execution_count": 6,
   "metadata": {},
   "outputs": [
    {
     "name": "stdout",
     "output_type": "stream",
     "text": [
      "Name: Alice, Age: 28, Salary: 60000\n",
      "Alice\n"
     ]
    }
   ],
   "source": [
    "# Protected Attributes and Methods\n",
    "\n",
    "class Person:\n",
    "    def __init__(self, name, age):\n",
    "        self._name = name\n",
    "        self._age = age\n",
    "\n",
    "    def _display(self):\n",
    "        return f\"Name: {self._name}, Age: {self._age}\"\n",
    "    \n",
    "class Employee(Person):\n",
    "    def __init__(self, name, age, salary):\n",
    "        super().__init__(name, age)\n",
    "        self._salary = salary\n",
    "\n",
    "    def get_details(self):\n",
    "        return f\"{self._display()}, Salary: {self._salary}\"\n",
    "    \n",
    "employee = Employee(\"Alice\", 28, 60000)\n",
    "\n",
    "print(employee.get_details())\n",
    "print(employee._name)"
   ]
  },
  {
   "cell_type": "code",
   "execution_count": null,
   "metadata": {},
   "outputs": [],
   "source": []
  }
 ],
 "metadata": {
  "kernelspec": {
   "display_name": "Python 3",
   "language": "python",
   "name": "python3"
  },
  "language_info": {
   "codemirror_mode": {
    "name": "ipython",
    "version": 3
   },
   "file_extension": ".py",
   "mimetype": "text/x-python",
   "name": "python",
   "nbconvert_exporter": "python",
   "pygments_lexer": "ipython3",
   "version": "3.7.3"
  }
 },
 "nbformat": 4,
 "nbformat_minor": 2
}
